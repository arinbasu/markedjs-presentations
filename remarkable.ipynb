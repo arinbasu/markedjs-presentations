{
 "cells": [
  {
   "cell_type": "markdown",
   "metadata": {},
   "source": [
    "# Create markdown based presentation"
   ]
  },
  {
   "cell_type": "markdown",
   "metadata": {},
   "source": [
    "## How to create markdown based presentations\n",
    "- We will create a markdown based presentation\n",
    "- We will write the prsentation in markdown\n",
    "- Use some data to analyse\n",
    "- Write some text\n",
    "- Produce slides from there"
   ]
  },
  {
   "cell_type": "markdown",
   "metadata": {},
   "source": [
    "## Start with a github repository\n",
    "- Create a github repository (say 'foo')\n",
    "- Add a git submodule to the github repo\n",
    "- `git init` # initialise a git repository locally\n",
    "- `git submodule add <foo URL>`\n",
    "- `cd foo` \n",
    "- this will create a directory 'foo' in the current directory"
   ]
  },
  {
   "cell_type": "markdown",
   "metadata": {},
   "source": [
    "## Download the remarkjs.min.js \n",
    "- `wget <remarkjs.min.js URL>` javascript file\n",
    "- you will need to source this file in the html"
   ]
  },
  {
   "cell_type": "markdown",
   "metadata": {},
   "source": [
    "## Prepare a separate html file and store with these settings\n",
    "```html\n",
    "<!DOCTYPE html>\n",
    "<html>\n",
    "  <head>\n",
    "    <title>Title</title>\n",
    "    <meta charset=\"utf-8\">\n",
    "    <style>\n",
    "      @import url(https://fonts.googleapis.com/css?family=Yanone+Kaffeesatz);\n",
    "      @import url(https://fonts.googleapis.com/css?family=Droid+Serif:400,700,400italic);\n",
    "      @import url(https://fonts.googleapis.com/css?family=Ubuntu+Mono:400,700,400italic);\n",
    "\n",
    "      body { font-family: 'Droid Serif'; }\n",
    "      h1, h2, h3 {\n",
    "        font-family: 'Yanone Kaffeesatz';\n",
    "        font-weight: normal;\n",
    "      }\n",
    "      .remark-code, .remark-inline-code { font-family: 'Ubuntu Mono'; }\n",
    "    </style>\n",
    "  </head>\n",
    "  <body>\n",
    "    <textarea id=\"source\">\n",
    "\n",
    "class: center, middle\n",
    "\n",
    "\n",
    "\n",
    "    </textarea>\n",
    "    <script src=\"https://remarkjs.com/downloads/remark-latest.min.js\">\n",
    "    </script>\n",
    "    <script>\n",
    "      var slideshow = remark.create({\n",
    "        source: 'markdown.md'\n",
    "         }\n",
    "        );\n",
    "    </script>\n",
    "  </body>\n",
    "</html>\n",
    "```\n"
   ]
  },
  {
   "cell_type": "markdown",
   "metadata": {},
   "source": [
    "## Now prepare the markdown.md\n",
    "- Use jupyter nbconvert to convert the ipynb file to markdown\n",
    "- `jupyter nbconvert --to markdown filename.ipynb`\n",
    "- This will convert the ipynb to markdown"
   ]
  },
  {
   "cell_type": "markdown",
   "metadata": {},
   "source": [
    "## Use git to upload the files to your repository\n",
    "\n",
    "```bash\n",
    "    git checkout -b gh-pages\n",
    "    git add .\n",
    "    git commit -m \"your message goes here\"\n",
    "    git push origin gh-pages\n",
    "```\n"
   ]
  },
  {
   "cell_type": "markdown",
   "metadata": {},
   "source": [
    "## If everything goes alright\n",
    "\n",
    "[Site published at https://username.github.io/foo/filename.html](https://username.github.io/foo/filename.html)\n"
   ]
  }
 ],
 "metadata": {
  "kernelspec": {
   "display_name": "R",
   "language": "R",
   "name": "ir"
  },
  "language_info": {
   "codemirror_mode": "r",
   "file_extension": ".r",
   "mimetype": "text/x-r-source",
   "name": "R",
   "pygments_lexer": "r",
   "version": "3.5.1"
  }
 },
 "nbformat": 4,
 "nbformat_minor": 2
}
